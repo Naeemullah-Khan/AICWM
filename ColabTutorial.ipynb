{
  "nbformat": 4,
  "nbformat_minor": 0,
  "metadata": {
    "colab": {
      "name": "ColabTutorial.ipynb",
      "provenance": []
    },
    "kernelspec": {
      "name": "python3",
      "display_name": "Python 3"
    },
    "language_info": {
      "name": "python"
    }
  },
  "cells": [
    {
      "cell_type": "code",
      "metadata": {
        "colab": {
          "base_uri": "https://localhost:8080/"
        },
        "id": "iUtfj2IqOpHF",
        "outputId": "5e5da57e-076d-4a6a-a620-282599433ddb"
      },
      "source": [
        "from google.colab import drive\n",
        "drive.mount('/content/drive')\n",
        "!ls'/content/drive/MyDrive/AICWM'\n",
        "#lists contents of the directory\n",
        "from PIL import Image\n",
        "import matplotlib.pyplot as plt\n",
        "%matplotlib inline  \n",
        "#displays matplotlib outputs in the notebook\n",
        "im=Image.open(\"/content/drive/MyDrive/AICWM/zebra1.png\")\n",
        "plt.imshow(im)"
      ],
      "execution_count": 9,
      "outputs": [
        {
          "output_type": "stream",
          "text": [
            "Drive already mounted at /content/drive; to attempt to forcibly remount, call drive.mount(\"/content/drive\", force_remount=True).\n",
            "/bin/bash: ls/content/drive/MyDrive/AICWM: No such file or directory\n"
          ],
          "name": "stdout"
        },
        {
          "output_type": "stream",
          "text": [
            "UsageError: unrecognized arguments: #displays matplotlib outputs in the notebook\n"
          ],
          "name": "stderr"
        }
      ]
    },
    {
      "cell_type": "code",
      "metadata": {
        "colab": {
          "base_uri": "https://localhost:8080/"
        },
        "id": "ovyolw7hPPuX",
        "outputId": "90189504-5285-4d80-9c63-0b746691b01a"
      },
      "source": [
        "!ls /content/drive/MyDrive/AICWM/"
      ],
      "execution_count": 5,
      "outputs": [
        {
          "output_type": "stream",
          "text": [
            "keras_model_00000.png  numpy_model_00031.png  numpy_model_00117.png\n",
            "keras_model_00001.png  numpy_model_00032.png  numpy_model_00118.png\n",
            "keras_model_00002.png  numpy_model_00033.png  numpy_model_00119.png\n",
            "keras_model_00003.png  numpy_model_00034.png  numpy_model_00120.png\n",
            "keras_model_00004.png  numpy_model_00035.png  numpy_model_00121.png\n",
            "keras_model_00005.png  numpy_model_00036.png  numpy_model_00122.png\n",
            "keras_model_00006.png  numpy_model_00037.png  numpy_model_00123.png\n",
            "keras_model_00007.png  numpy_model_00038.png  numpy_model_00124.png\n",
            "keras_model_00008.png  numpy_model_00039.png  numpy_model_00125.png\n",
            "keras_model_00009.png  numpy_model_00040.png  numpy_model_00126.png\n",
            "keras_model_00010.png  numpy_model_00041.png  numpy_model_00127.png\n",
            "keras_model_00011.png  numpy_model_00042.png  numpy_model_00128.png\n",
            "keras_model_00012.png  numpy_model_00043.png  numpy_model_00129.png\n",
            "keras_model_00013.png  numpy_model_00044.png  numpy_model_00130.png\n",
            "keras_model_00014.png  numpy_model_00045.png  numpy_model_00131.png\n",
            "keras_model_00015.png  numpy_model_00046.png  numpy_model_00132.png\n",
            "keras_model_00016.png  numpy_model_00047.png  numpy_model_00133.png\n",
            "keras_model_00017.png  numpy_model_00048.png  numpy_model_00134.png\n",
            "keras_model_00018.png  numpy_model_00049.png  numpy_model_00135.png\n",
            "keras_model_00019.png  numpy_model_00050.png  numpy_model_00136.png\n",
            "keras_model_00020.png  numpy_model_00051.png  numpy_model_00137.png\n",
            "keras_model_00021.png  numpy_model_00052.png  numpy_model_00138.png\n",
            "keras_model_00022.png  numpy_model_00053.png  numpy_model_00139.png\n",
            "keras_model_00023.png  numpy_model_00054.png  numpy_model_00140.png\n",
            "keras_model_00024.png  numpy_model_00055.png  numpy_model_00141.png\n",
            "keras_model_00025.png  numpy_model_00056.png  numpy_model_00142.png\n",
            "keras_model_00026.png  numpy_model_00057.png  numpy_model_00143.png\n",
            "keras_model_00027.png  numpy_model_00058.png  numpy_model_00144.png\n",
            "keras_model_00028.png  numpy_model_00059.png  numpy_model_00145.png\n",
            "keras_model_00029.png  numpy_model_00060.png  numpy_model_00146.png\n",
            "keras_model_00030.png  numpy_model_00061.png  numpy_model_00147.png\n",
            "keras_model_00031.png  numpy_model_00062.png  numpy_model_00148.png\n",
            "keras_model_00032.png  numpy_model_00063.png  numpy_model_00149.png\n",
            "keras_model_00033.png  numpy_model_00064.png  numpy_model_00150.png\n",
            "keras_model_00034.png  numpy_model_00065.png  numpy_model_00151.png\n",
            "keras_model_00035.png  numpy_model_00066.png  numpy_model_00152.png\n",
            "keras_model_00036.png  numpy_model_00067.png  numpy_model_00153.png\n",
            "keras_model_00037.png  numpy_model_00068.png  numpy_model_00154.png\n",
            "keras_model_00038.png  numpy_model_00069.png  numpy_model_00155.png\n",
            "keras_model_00039.png  numpy_model_00070.png  numpy_model_00156.png\n",
            "keras_model_00040.png  numpy_model_00071.png  numpy_model_00157.png\n",
            "keras_model_00041.png  numpy_model_00072.png  numpy_model_00158.png\n",
            "keras_model_00042.png  numpy_model_00073.png  numpy_model_00159.png\n",
            "keras_model_00043.png  numpy_model_00074.png  numpy_model_00160.png\n",
            "keras_model_00044.png  numpy_model_00075.png  numpy_model_00161.png\n",
            "keras_model_00045.png  numpy_model_00076.png  numpy_model_00162.png\n",
            "keras_model_00046.png  numpy_model_00077.png  numpy_model_00163.png\n",
            "keras_model_00047.png  numpy_model_00078.png  numpy_model_00164.png\n",
            "keras_model_00048.png  numpy_model_00079.png  numpy_model_00165.png\n",
            "keras_model_00049.png  numpy_model_00080.png  numpy_model_00166.png\n",
            "keras_model_00050.png  numpy_model_00081.png  numpy_model_00167.png\n",
            "keras_model_00051.png  numpy_model_00082.png  numpy_model_00168.png\n",
            "keras_model_00052.png  numpy_model_00083.png  numpy_model_00169.png\n",
            "keras_model_00053.png  numpy_model_00084.png  numpy_model_00170.png\n",
            "keras_model_00054.png  numpy_model_00085.png  numpy_model_00171.png\n",
            "numpy_model_00000.png  numpy_model_00086.png  numpy_model_00172.png\n",
            "numpy_model_00001.png  numpy_model_00087.png  numpy_model_00173.png\n",
            "numpy_model_00002.png  numpy_model_00088.png  numpy_model_00174.png\n",
            "numpy_model_00003.png  numpy_model_00089.png  numpy_model_00175.png\n",
            "numpy_model_00004.png  numpy_model_00090.png  numpy_model_00176.png\n",
            "numpy_model_00005.png  numpy_model_00091.png  numpy_model_00177.png\n",
            "numpy_model_00006.png  numpy_model_00092.png  numpy_model_00178.png\n",
            "numpy_model_00007.png  numpy_model_00093.png  numpy_model_00179.png\n",
            "numpy_model_00008.png  numpy_model_00094.png  numpy_model_00180.png\n",
            "numpy_model_00009.png  numpy_model_00095.png  numpy_model_00181.png\n",
            "numpy_model_00010.png  numpy_model_00096.png  numpy_model_00182.png\n",
            "numpy_model_00011.png  numpy_model_00097.png  numpy_model_00183.png\n",
            "numpy_model_00012.png  numpy_model_00098.png  numpy_model_00184.png\n",
            "numpy_model_00013.png  numpy_model_00099.png  numpy_model_00185.png\n",
            "numpy_model_00014.png  numpy_model_00100.png  numpy_model_00186.png\n",
            "numpy_model_00015.png  numpy_model_00101.png  numpy_model_00187.png\n",
            "numpy_model_00016.png  numpy_model_00102.png  numpy_model_00188.png\n",
            "numpy_model_00017.png  numpy_model_00103.png  numpy_model_00189.png\n",
            "numpy_model_00018.png  numpy_model_00104.png  numpy_model_00190.png\n",
            "numpy_model_00019.png  numpy_model_00105.png  numpy_model_00191.png\n",
            "numpy_model_00020.png  numpy_model_00106.png  numpy_model_00192.png\n",
            "numpy_model_00021.png  numpy_model_00107.png  numpy_model_00193.png\n",
            "numpy_model_00022.png  numpy_model_00108.png  numpy_model_00194.png\n",
            "numpy_model_00023.png  numpy_model_00109.png  numpy_model_00195.png\n",
            "numpy_model_00024.png  numpy_model_00110.png  numpy_model_00196.png\n",
            "numpy_model_00025.png  numpy_model_00111.png  numpy_model_00197.png\n",
            "numpy_model_00026.png  numpy_model_00112.png  numpy_model_00198.png\n",
            "numpy_model_00027.png  numpy_model_00113.png  numpy_model_00199.png\n",
            "numpy_model_00028.png  numpy_model_00114.png  zebra1.png\n",
            "numpy_model_00029.png  numpy_model_00115.png\n",
            "numpy_model_00030.png  numpy_model_00116.png\n"
          ],
          "name": "stdout"
        }
      ]
    },
    {
      "cell_type": "code",
      "metadata": {
        "id": "xBdu86gjPSpi"
      },
      "source": [
        ""
      ],
      "execution_count": null,
      "outputs": []
    }
  ]
}